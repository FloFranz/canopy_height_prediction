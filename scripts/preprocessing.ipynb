{
 "cells": [
  {
   "cell_type": "code",
   "execution_count": 1,
   "id": "94af80b2-1efc-4b95-ac85-7ed69bc98102",
   "metadata": {},
   "outputs": [],
   "source": [
    "# import libraries\n",
    "import rioxarray as rxr\n",
    "from matplotlib import pyplot as plt\n",
    "import numpy as np\n",
    "import xarray as xr\n",
    "from pathlib import Path\n",
    "import importlib.util"
   ]
  },
  {
   "cell_type": "code",
   "execution_count": 2,
   "id": "cdc09da0-be97-4d17-9687-fff8668ee2fe",
   "metadata": {},
   "outputs": [
    {
     "name": "stdout",
     "output_type": "stream",
     "text": [
      "created directory data\\raw_data\\nDSM\n",
      "created directory data\\raw_data\\orthomosaics\n",
      "created directory data\\processed_data\n",
      "created directory data\\metadata\n",
      "created directory output\n"
     ]
    }
   ],
   "source": [
    "# load the setup.py module\n",
    "path = Path.cwd().parent / 'src' / 'setup.py'\n",
    "spec = importlib.util.spec_from_file_location('setup', path)\n",
    "setup = importlib.util.module_from_spec(spec)\n",
    "spec.loader.exec_module(setup)\n",
    "\n",
    "# call the make_folders function\n",
    "raw_data_dir, processed_data_dir, output_dir = setup.make_folders()"
   ]
  },
  {
   "cell_type": "code",
   "execution_count": 6,
   "id": "0b6b0d90-6e25-4f17-8a3d-f09ded9a868d",
   "metadata": {},
   "outputs": [
    {
     "name": "stdout",
     "output_type": "stream",
     "text": [
      "<xarray.Dataset>\n",
      "Dimensions:      (x: 2600, y: 2600)\n",
      "Coordinates:\n",
      "  * x            (x) float64 4.01e+05 4.01e+05 4.01e+05 ... 4.011e+05 4.011e+05\n",
      "  * y            (y) float64 5.281e+06 5.281e+06 ... 5.281e+06 5.281e+06\n",
      "    spatial_ref  int32 0\n",
      "Data variables:\n",
      "    band_1       (y, x) float32 ...\n",
      "Attributes:\n",
      "    AREA_OR_POINT:  Area\n",
      "<xarray.Dataset>\n",
      "Dimensions:      (x: 10792, y: 10792)\n",
      "Coordinates:\n",
      "  * x            (x) float64 4.01e+05 4.01e+05 4.01e+05 ... 4.011e+05 4.011e+05\n",
      "  * y            (y) float64 5.281e+06 5.281e+06 ... 5.281e+06 5.281e+06\n",
      "    spatial_ref  int32 0\n",
      "Data variables:\n",
      "    band_1       (y, x) uint8 ...\n",
      "    band_2       (y, x) uint8 ...\n",
      "    band_3       (y, x) uint8 ...\n",
      "    band_4       (y, x) uint8 ...\n",
      "Attributes:\n",
      "    AREA_OR_POINT:  Area\n"
     ]
    }
   ],
   "source": [
    "# data reading\n",
    "#--------------\n",
    "# define path to raw nDSM files\n",
    "ndsm_path = raw_data_dir / 'nDSM'\n",
    "ortho_path = raw_data_dir / 'orthomosaics'\n",
    "\n",
    "# read one example file for both nDSM and orthomosaic\n",
    "ndsm = rxr.open_rasterio(ndsm_path / 'nDSM_CFB030.tif', band_as_variable = True)\n",
    "ortho = rxr.open_rasterio(ortho_path / 'CFB030_ortho.tif', band_as_variable = True)\n",
    "\n",
    "print(ndsm)\n",
    "print(ortho)"
   ]
  }
 ],
 "metadata": {
  "kernelspec": {
   "display_name": "Python 3 (ipykernel)",
   "language": "python",
   "name": "python3"
  },
  "language_info": {
   "codemirror_mode": {
    "name": "ipython",
    "version": 3
   },
   "file_extension": ".py",
   "mimetype": "text/x-python",
   "name": "python",
   "nbconvert_exporter": "python",
   "pygments_lexer": "ipython3",
   "version": "3.10.12"
  }
 },
 "nbformat": 4,
 "nbformat_minor": 5
}
